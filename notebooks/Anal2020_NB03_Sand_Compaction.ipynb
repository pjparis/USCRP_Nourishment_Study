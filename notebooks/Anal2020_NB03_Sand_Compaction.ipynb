{
 "cells": [
  {
   "cell_type": "markdown",
   "metadata": {},
   "source": [
    "## Analysis 2020 Notebook 03 - Sand Compaction"
   ]
  },
  {
   "cell_type": "code",
   "execution_count": 1,
   "metadata": {},
   "outputs": [],
   "source": [
    "import numpy as np\n",
    "import pandas as pd\n",
    "import matplotlib.pyplot as plt\n",
    "import seaborn as sns\n",
    "import datetime\n",
    "\n",
    "sns.set_context('talk')\n",
    "sns.color_palette('bright')\n",
    "#sns.set(style=\"ticks\", palette=\"bright\")\n",
    "\n",
    "%matplotlib inline"
   ]
  },
  {
   "cell_type": "code",
   "execution_count": 49,
   "metadata": {},
   "outputs": [],
   "source": [
    "# IMPORT DATA:\n",
    "data_path = '../../../data/compaction/'\n",
    "plot_path = '../../../miscellaneous/Webinar Nov 2020/'\n",
    "data_file = 'Compaction_Data.csv'\n",
    "\n",
    "\n",
    "df = pd.read_csv(data_path+data_file)\n",
    "#df"
   ]
  },
  {
   "cell_type": "code",
   "execution_count": 58,
   "metadata": {},
   "outputs": [],
   "source": [
    "# ADD A SURVEY ID FIELD BUILT OFF THE YEAR AND MONTH PARTS OF THE EXISTING sample_dat COLUMN:\n",
    "\n",
    "year = df['sample_dat'].str[0:4]\n",
    "month = df['sample_dat'].str[6:7]\n",
    "\n",
    "# format: month-Year\n",
    "df['Survey'] = df['sample_dat'].str[5:7]+'-'+df['sample_dat'].str[0:4]"
   ]
  },
  {
   "cell_type": "code",
   "execution_count": null,
   "metadata": {},
   "outputs": [],
   "source": []
  },
  {
   "cell_type": "code",
   "execution_count": 53,
   "metadata": {},
   "outputs": [],
   "source": [
    "# DROP A FEW COLUMNS THAT ARE EITHER NOT NEEDED OR TOO SPARSELY POPULATED TO BE USEFUL:\n",
    "df.drop(['OBJECTID','sheet_code','sample_tim','mbc_at_1in','mbc_at_6in','mbc_at_12i'], axis=1, inplace=True)"
   ]
  },
  {
   "cell_type": "code",
   "execution_count": 54,
   "metadata": {},
   "outputs": [],
   "source": [
    "# CONVERT sample_dat FIELD TO PYTHON DATETIME:\n",
    "\n",
    "df['Sample Date'] =  pd.to_datetime(df['sample_dat'], format='%Y/%m/%d %H:%M:%S')"
   ]
  },
  {
   "cell_type": "code",
   "execution_count": 61,
   "metadata": {},
   "outputs": [
    {
     "data": {
      "text/plain": [
       "array(['07-2014', '09-2014', '04-2015', '08-2015', '10-2015', '02-2016',\n",
       "       '05-2016', '08-2016', '10-2016', '02-2017', '04-2017', '08-2017',\n",
       "       '01-2020', '04-2020', '07-2020', '10-2020'], dtype=object)"
      ]
     },
     "execution_count": 61,
     "metadata": {},
     "output_type": "execute_result"
    }
   ],
   "source": [
    "df['Sample Date'].unique()"
   ]
  },
  {
   "cell_type": "code",
   "execution_count": 62,
   "metadata": {},
   "outputs": [
    {
     "data": {
      "text/plain": [
       "array(['2014-07-14T00:00:00.000000000', '2014-07-15T00:00:00.000000000',\n",
       "       '2014-09-29T00:00:00.000000000', '2015-04-28T00:00:00.000000000',\n",
       "       '2015-08-04T00:00:00.000000000', '2015-10-20T00:00:00.000000000',\n",
       "       '2016-02-17T00:00:00.000000000', '2016-05-10T00:00:00.000000000',\n",
       "       '2016-08-09T00:00:00.000000000', '2016-10-13T00:00:00.000000000',\n",
       "       '2017-02-19T00:00:00.000000000', '2017-04-27T00:00:00.000000000',\n",
       "       '2017-08-04T00:00:00.000000000', '2020-01-08T00:00:00.000000000',\n",
       "       '2020-04-27T00:00:00.000000000', '2020-04-28T00:00:00.000000000',\n",
       "       '2020-07-13T00:00:00.000000000', '2020-10-15T00:00:00.000000000',\n",
       "       '2020-10-14T00:00:00.000000000'], dtype='datetime64[ns]')"
      ]
     },
     "execution_count": 62,
     "metadata": {},
     "output_type": "execute_result"
    }
   ],
   "source": [
    "df['Sample Date'].unique()"
   ]
  },
  {
   "cell_type": "code",
   "execution_count": 63,
   "metadata": {},
   "outputs": [
    {
     "data": {
      "text/plain": [
       "0     2014-07-01\n",
       "1     2014-07-01\n",
       "2     2014-07-01\n",
       "3     2014-07-01\n",
       "4     2014-07-01\n",
       "         ...    \n",
       "427   2020-10-01\n",
       "428   2020-10-01\n",
       "429   2020-10-01\n",
       "430   2020-10-01\n",
       "431   2020-10-01\n",
       "Name: Survey, Length: 432, dtype: datetime64[ns]"
      ]
     },
     "execution_count": 63,
     "metadata": {},
     "output_type": "execute_result"
    }
   ],
   "source": [
    "pd.to_datetime(df['Survey'], format='%m-%Y')"
   ]
  },
  {
   "cell_type": "code",
   "execution_count": 64,
   "metadata": {},
   "outputs": [],
   "source": [
    "# ADD A FIELD THAT CONTAINS THE SURVEY DATE AS JULIAN DAYS/DATES:\n",
    "\n",
    "# add 0.5 to bring date to whole day (Julian dates start counting at mid-day)\n",
    "# use: pd.to_datetime(df['Survey'] to convert Survey field to temorary datetime for comps.\n",
    "\n",
    "df['DateJ'] = pd.DatetimeIndex(pd.to_datetime(df['Survey'], format='%m-%Y')).floor('d').to_julian_date()+0.5"
   ]
  },
  {
   "cell_type": "code",
   "execution_count": 66,
   "metadata": {},
   "outputs": [
    {
     "data": {
      "text/html": [
       "<div>\n",
       "<style scoped>\n",
       "    .dataframe tbody tr th:only-of-type {\n",
       "        vertical-align: middle;\n",
       "    }\n",
       "\n",
       "    .dataframe tbody tr th {\n",
       "        vertical-align: top;\n",
       "    }\n",
       "\n",
       "    .dataframe thead th {\n",
       "        text-align: right;\n",
       "    }\n",
       "</style>\n",
       "<table border=\"1\" class=\"dataframe\">\n",
       "  <thead>\n",
       "    <tr style=\"text-align: right;\">\n",
       "      <th></th>\n",
       "      <th>transect_I</th>\n",
       "      <th>area</th>\n",
       "      <th>sample_dat</th>\n",
       "      <th>year</th>\n",
       "      <th>season</th>\n",
       "      <th>swc_at_1in</th>\n",
       "      <th>swc_at_6in</th>\n",
       "      <th>swc_at_12i</th>\n",
       "      <th>Sample Date</th>\n",
       "      <th>Survey</th>\n",
       "      <th>DateJ</th>\n",
       "      <th>DateG</th>\n",
       "    </tr>\n",
       "  </thead>\n",
       "  <tbody>\n",
       "    <tr>\n",
       "      <th>0</th>\n",
       "      <td>T01</td>\n",
       "      <td>Treatment</td>\n",
       "      <td>2014/07/14 00:00:00</td>\n",
       "      <td>2014</td>\n",
       "      <td>summer</td>\n",
       "      <td>10</td>\n",
       "      <td>40</td>\n",
       "      <td>120</td>\n",
       "      <td>2014-07-14</td>\n",
       "      <td>07-2014</td>\n",
       "      <td>2456840.0</td>\n",
       "      <td>2014-07-01</td>\n",
       "    </tr>\n",
       "    <tr>\n",
       "      <th>1</th>\n",
       "      <td>T02</td>\n",
       "      <td>Treatment</td>\n",
       "      <td>2014/07/14 00:00:00</td>\n",
       "      <td>2014</td>\n",
       "      <td>summer</td>\n",
       "      <td>20</td>\n",
       "      <td>50</td>\n",
       "      <td>120</td>\n",
       "      <td>2014-07-14</td>\n",
       "      <td>07-2014</td>\n",
       "      <td>2456840.0</td>\n",
       "      <td>2014-07-01</td>\n",
       "    </tr>\n",
       "    <tr>\n",
       "      <th>2</th>\n",
       "      <td>T03</td>\n",
       "      <td>Treatment</td>\n",
       "      <td>2014/07/14 00:00:00</td>\n",
       "      <td>2014</td>\n",
       "      <td>summer</td>\n",
       "      <td>10</td>\n",
       "      <td>50</td>\n",
       "      <td>110</td>\n",
       "      <td>2014-07-14</td>\n",
       "      <td>07-2014</td>\n",
       "      <td>2456840.0</td>\n",
       "      <td>2014-07-01</td>\n",
       "    </tr>\n",
       "    <tr>\n",
       "      <th>3</th>\n",
       "      <td>T04</td>\n",
       "      <td>Treatment</td>\n",
       "      <td>2014/07/14 00:00:00</td>\n",
       "      <td>2014</td>\n",
       "      <td>summer</td>\n",
       "      <td>10</td>\n",
       "      <td>50</td>\n",
       "      <td>150</td>\n",
       "      <td>2014-07-14</td>\n",
       "      <td>07-2014</td>\n",
       "      <td>2456840.0</td>\n",
       "      <td>2014-07-01</td>\n",
       "    </tr>\n",
       "    <tr>\n",
       "      <th>4</th>\n",
       "      <td>T05</td>\n",
       "      <td>Treatment</td>\n",
       "      <td>2014/07/14 00:00:00</td>\n",
       "      <td>2014</td>\n",
       "      <td>summer</td>\n",
       "      <td>10</td>\n",
       "      <td>100</td>\n",
       "      <td>175</td>\n",
       "      <td>2014-07-14</td>\n",
       "      <td>07-2014</td>\n",
       "      <td>2456840.0</td>\n",
       "      <td>2014-07-01</td>\n",
       "    </tr>\n",
       "    <tr>\n",
       "      <th>...</th>\n",
       "      <td>...</td>\n",
       "      <td>...</td>\n",
       "      <td>...</td>\n",
       "      <td>...</td>\n",
       "      <td>...</td>\n",
       "      <td>...</td>\n",
       "      <td>...</td>\n",
       "      <td>...</td>\n",
       "      <td>...</td>\n",
       "      <td>...</td>\n",
       "      <td>...</td>\n",
       "      <td>...</td>\n",
       "    </tr>\n",
       "    <tr>\n",
       "      <th>427</th>\n",
       "      <td>T12</td>\n",
       "      <td>Treatment</td>\n",
       "      <td>2020/10/14 00:00:00</td>\n",
       "      <td>2020</td>\n",
       "      <td>autumn</td>\n",
       "      <td>0</td>\n",
       "      <td>200</td>\n",
       "      <td>&gt;300</td>\n",
       "      <td>2020-10-14</td>\n",
       "      <td>10-2020</td>\n",
       "      <td>2459124.0</td>\n",
       "      <td>2020-10-01</td>\n",
       "    </tr>\n",
       "    <tr>\n",
       "      <th>428</th>\n",
       "      <td>T13</td>\n",
       "      <td>Treatment</td>\n",
       "      <td>2020/10/14 00:00:00</td>\n",
       "      <td>2020</td>\n",
       "      <td>autumn</td>\n",
       "      <td>50</td>\n",
       "      <td>300</td>\n",
       "      <td>&gt;300</td>\n",
       "      <td>2020-10-14</td>\n",
       "      <td>10-2020</td>\n",
       "      <td>2459124.0</td>\n",
       "      <td>2020-10-01</td>\n",
       "    </tr>\n",
       "    <tr>\n",
       "      <th>429</th>\n",
       "      <td>T14</td>\n",
       "      <td>Treatment</td>\n",
       "      <td>2020/10/15 00:00:00</td>\n",
       "      <td>2020</td>\n",
       "      <td>autumn</td>\n",
       "      <td>0</td>\n",
       "      <td>&gt;300</td>\n",
       "      <td>&gt;300</td>\n",
       "      <td>2020-10-15</td>\n",
       "      <td>10-2020</td>\n",
       "      <td>2459124.0</td>\n",
       "      <td>2020-10-01</td>\n",
       "    </tr>\n",
       "    <tr>\n",
       "      <th>430</th>\n",
       "      <td>T15</td>\n",
       "      <td>Treatment</td>\n",
       "      <td>2020/10/15 00:00:00</td>\n",
       "      <td>2020</td>\n",
       "      <td>autumn</td>\n",
       "      <td>0</td>\n",
       "      <td>300</td>\n",
       "      <td>&gt;300</td>\n",
       "      <td>2020-10-15</td>\n",
       "      <td>10-2020</td>\n",
       "      <td>2459124.0</td>\n",
       "      <td>2020-10-01</td>\n",
       "    </tr>\n",
       "    <tr>\n",
       "      <th>431</th>\n",
       "      <td>T16</td>\n",
       "      <td>Treatment</td>\n",
       "      <td>2020/10/15 00:00:00</td>\n",
       "      <td>2020</td>\n",
       "      <td>autumn</td>\n",
       "      <td>50</td>\n",
       "      <td>&gt;300</td>\n",
       "      <td>&gt;300</td>\n",
       "      <td>2020-10-15</td>\n",
       "      <td>10-2020</td>\n",
       "      <td>2459124.0</td>\n",
       "      <td>2020-10-01</td>\n",
       "    </tr>\n",
       "  </tbody>\n",
       "</table>\n",
       "<p>432 rows × 12 columns</p>\n",
       "</div>"
      ],
      "text/plain": [
       "    transect_I       area           sample_dat  year  season swc_at_1in  \\\n",
       "0          T01  Treatment  2014/07/14 00:00:00  2014  summer         10   \n",
       "1          T02  Treatment  2014/07/14 00:00:00  2014  summer         20   \n",
       "2          T03  Treatment  2014/07/14 00:00:00  2014  summer         10   \n",
       "3          T04  Treatment  2014/07/14 00:00:00  2014  summer         10   \n",
       "4          T05  Treatment  2014/07/14 00:00:00  2014  summer         10   \n",
       "..         ...        ...                  ...   ...     ...        ...   \n",
       "427        T12  Treatment  2020/10/14 00:00:00  2020  autumn          0   \n",
       "428        T13  Treatment  2020/10/14 00:00:00  2020  autumn         50   \n",
       "429        T14  Treatment  2020/10/15 00:00:00  2020  autumn          0   \n",
       "430        T15  Treatment  2020/10/15 00:00:00  2020  autumn          0   \n",
       "431        T16  Treatment  2020/10/15 00:00:00  2020  autumn         50   \n",
       "\n",
       "    swc_at_6in swc_at_12i Sample Date   Survey      DateJ      DateG  \n",
       "0           40        120  2014-07-14  07-2014  2456840.0 2014-07-01  \n",
       "1           50        120  2014-07-14  07-2014  2456840.0 2014-07-01  \n",
       "2           50        110  2014-07-14  07-2014  2456840.0 2014-07-01  \n",
       "3           50        150  2014-07-14  07-2014  2456840.0 2014-07-01  \n",
       "4          100        175  2014-07-14  07-2014  2456840.0 2014-07-01  \n",
       "..         ...        ...         ...      ...        ...        ...  \n",
       "427        200       >300  2020-10-14  10-2020  2459124.0 2020-10-01  \n",
       "428        300       >300  2020-10-14  10-2020  2459124.0 2020-10-01  \n",
       "429       >300       >300  2020-10-15  10-2020  2459124.0 2020-10-01  \n",
       "430        300       >300  2020-10-15  10-2020  2459124.0 2020-10-01  \n",
       "431       >300       >300  2020-10-15  10-2020  2459124.0 2020-10-01  \n",
       "\n",
       "[432 rows x 12 columns]"
      ]
     },
     "execution_count": 66,
     "metadata": {},
     "output_type": "execute_result"
    }
   ],
   "source": [
    "# ADD FIELD CONTAINING GREGORIAN DATES (CONVERT FROM JULIAN DATES: DateJ):\n",
    "\n",
    "df['DateG'] = pd.to_datetime(df['DateJ']-0.5, unit='D', origin='julian')\n",
    "#df"
   ]
  },
  {
   "cell_type": "code",
   "execution_count": 67,
   "metadata": {},
   "outputs": [],
   "source": [
    "# SET XTICKS TO CONTINUOUS VALUES (DateJ) FOR EXPLORATORY REGRESSION PLOTS WHERE TIME CANNOT BE USED AS PREDICTOR:\n",
    "# NEW TICK LABELS USE Survey FIELD AND MAP TO DATEJ POSITIONS ALONG X-AXIS\n",
    "\n",
    "xtics = df.DateJ.unique()\n",
    "xticlbls = df['Survey'].unique()"
   ]
  },
  {
   "cell_type": "code",
   "execution_count": null,
   "metadata": {},
   "outputs": [],
   "source": []
  },
  {
   "cell_type": "code",
   "execution_count": null,
   "metadata": {},
   "outputs": [],
   "source": []
  }
 ],
 "metadata": {
  "kernelspec": {
   "display_name": "Python 3",
   "language": "python",
   "name": "python3"
  },
  "language_info": {
   "codemirror_mode": {
    "name": "ipython",
    "version": 3
   },
   "file_extension": ".py",
   "mimetype": "text/x-python",
   "name": "python",
   "nbconvert_exporter": "python",
   "pygments_lexer": "ipython3",
   "version": "3.8.3"
  }
 },
 "nbformat": 4,
 "nbformat_minor": 4
}
