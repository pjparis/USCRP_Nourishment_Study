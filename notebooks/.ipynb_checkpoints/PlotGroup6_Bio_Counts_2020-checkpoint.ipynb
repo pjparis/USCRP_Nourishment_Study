{
 "cells": [
  {
   "cell_type": "markdown",
   "metadata": {},
   "source": [
    "<h3>USFWS Pea Island Plot Group 6 Biol Counts - 2020 ReBuild</h4>"
   ]
  },
  {
   "cell_type": "markdown",
   "metadata": {},
   "source": [
    "**Supports:**\n",
    "\n",
    "dates=['2014-07-14 00:00:00','2014-07-15 00:00:00','2014-09-29 00:00:00','2015-04-28 00:00:00','2015-08-04 00:00:00','2015-10-20 00:00:00','2016-02-17 00:00:00','2016-05-10 00:00:00','2016-08-09 00:00:00','2016-10-13 00:00:00']\n",
    "\n",
    "surveys=[201407,201407,201409,201504,201508,201510,201602,201605,201608,201610]\n",
    "\n",
    "<br />\n",
    "**Instructions for use:**\n",
    "1. Export the table Biological Counts from the master geodatabase PIBM_Master.accdb to a tab separated text file. Title it PeaIsland_BioCounts.txt. If you elect to use a different name, be sure to make the change in the user inputs cell, below, to reflect. Too, If you should choose to export using a field separator other than the tab (x09) you'll have to update the Load Data File cell. \n",
    "2. Check the User Inputs cell, ensuring that the path and name of the exported bioCounts source file is correct. \n",
    "3. Cell -> Run All"
   ]
  },
  {
   "cell_type": "code",
   "execution_count": 54,
   "metadata": {},
   "outputs": [],
   "source": [
    "import numpy as np\n",
    "import pandas as pd\n",
    "import matplotlib.pyplot as plt\n",
    "import seaborn as sns\n",
    "import math \n",
    "import datetime\n",
    "\n",
    "%matplotlib inline"
   ]
  },
  {
   "cell_type": "markdown",
   "metadata": {},
   "source": [
    "**Function PlotCountsAboveBars**\n",
    "Places (prints) the total value count for each \"critter\" atop the transect bar (aggregated for cntrol and treatment separately) in the bio count barplots. The function is called by each of the plot operations in the Plotting Section of this notebook."
   ]
  },
  {
   "cell_type": "code",
   "execution_count": 55,
   "metadata": {},
   "outputs": [],
   "source": [
    "# Function: PlotCountsAboveBars   NOT CURRENTLY USED\n",
    "def PlotCountsAboveBars():\n",
    "    # Get current axis on current figure\n",
    "    ax = plt.gca()\n",
    "\n",
    "    # Iterate through the list of axes' patches\n",
    "    for p in ax.patches:\n",
    "        ax.text(p.get_x() + p.get_width()/2., p.get_height(), '%d' % int(p.get_height()), \n",
    "            fontsize=12, color='black', ha='center', va='bottom')"
   ]
  },
  {
   "cell_type": "code",
   "execution_count": 95,
   "metadata": {
    "collapsed": false,
    "jupyter": {
     "outputs_hidden": false
    }
   },
   "outputs": [],
   "source": [
    "### User Inputs:\n",
    "datapath='../data/'\n",
    "fns=['PINWR_JAN2020_BioCnts.xlsx','PINWR_APR2020_BioCnts.xlsx',\n",
    "    'PINWR_Jul2020_BioCnts.xlsx'] #'PeaIsland_BioCounts.txt'\n",
    "\n",
    "surveys=['202001','202004','202007']\n",
    "\n",
    "plotpath='../plots_n_graphics/PlotGroup6_Bio/'"
   ]
  },
  {
   "cell_type": "code",
   "execution_count": 97,
   "metadata": {},
   "outputs": [
    {
     "name": "stdout",
     "output_type": "stream",
     "text": [
      "No NOTES field to drop...\n"
     ]
    },
    {
     "data": {
      "text/html": [
       "<div>\n",
       "<style scoped>\n",
       "    .dataframe tbody tr th:only-of-type {\n",
       "        vertical-align: middle;\n",
       "    }\n",
       "\n",
       "    .dataframe tbody tr th {\n",
       "        vertical-align: top;\n",
       "    }\n",
       "\n",
       "    .dataframe thead th {\n",
       "        text-align: right;\n",
       "    }\n",
       "</style>\n",
       "<table border=\"1\" class=\"dataframe\">\n",
       "  <thead>\n",
       "    <tr style=\"text-align: right;\">\n",
       "      <th></th>\n",
       "      <th>transect_ID</th>\n",
       "      <th>ghost_crab_cnt</th>\n",
       "      <th>sm_mole_crab_cnt</th>\n",
       "      <th>md_mole_crab_cnt</th>\n",
       "      <th>lg_mole_crab_cnt</th>\n",
       "      <th>coquina_cnt</th>\n",
       "      <th>worm_cnt</th>\n",
       "      <th>amphipod_cnt</th>\n",
       "      <th>survey</th>\n",
       "      <th>group</th>\n",
       "    </tr>\n",
       "  </thead>\n",
       "  <tbody>\n",
       "    <tr>\n",
       "      <th>0</th>\n",
       "      <td>C01</td>\n",
       "      <td>0</td>\n",
       "      <td>0</td>\n",
       "      <td>1</td>\n",
       "      <td>0</td>\n",
       "      <td>0</td>\n",
       "      <td>0</td>\n",
       "      <td>0</td>\n",
       "      <td>202001</td>\n",
       "      <td>control</td>\n",
       "    </tr>\n",
       "    <tr>\n",
       "      <th>1</th>\n",
       "      <td>C02</td>\n",
       "      <td>0</td>\n",
       "      <td>0</td>\n",
       "      <td>0</td>\n",
       "      <td>0</td>\n",
       "      <td>0</td>\n",
       "      <td>0</td>\n",
       "      <td>0</td>\n",
       "      <td>202001</td>\n",
       "      <td>control</td>\n",
       "    </tr>\n",
       "    <tr>\n",
       "      <th>2</th>\n",
       "      <td>C03</td>\n",
       "      <td>0</td>\n",
       "      <td>0</td>\n",
       "      <td>0</td>\n",
       "      <td>0</td>\n",
       "      <td>0</td>\n",
       "      <td>0</td>\n",
       "      <td>0</td>\n",
       "      <td>202001</td>\n",
       "      <td>control</td>\n",
       "    </tr>\n",
       "    <tr>\n",
       "      <th>3</th>\n",
       "      <td>C04</td>\n",
       "      <td>0</td>\n",
       "      <td>0</td>\n",
       "      <td>1</td>\n",
       "      <td>0</td>\n",
       "      <td>0</td>\n",
       "      <td>0</td>\n",
       "      <td>0</td>\n",
       "      <td>202001</td>\n",
       "      <td>control</td>\n",
       "    </tr>\n",
       "    <tr>\n",
       "      <th>4</th>\n",
       "      <td>C05</td>\n",
       "      <td>0</td>\n",
       "      <td>0</td>\n",
       "      <td>1</td>\n",
       "      <td>1</td>\n",
       "      <td>0</td>\n",
       "      <td>0</td>\n",
       "      <td>0</td>\n",
       "      <td>202001</td>\n",
       "      <td>control</td>\n",
       "    </tr>\n",
       "    <tr>\n",
       "      <th>...</th>\n",
       "      <td>...</td>\n",
       "      <td>...</td>\n",
       "      <td>...</td>\n",
       "      <td>...</td>\n",
       "      <td>...</td>\n",
       "      <td>...</td>\n",
       "      <td>...</td>\n",
       "      <td>...</td>\n",
       "      <td>...</td>\n",
       "      <td>...</td>\n",
       "    </tr>\n",
       "    <tr>\n",
       "      <th>76</th>\n",
       "      <td>T12</td>\n",
       "      <td>14</td>\n",
       "      <td>19</td>\n",
       "      <td>6</td>\n",
       "      <td>0</td>\n",
       "      <td>0</td>\n",
       "      <td>0</td>\n",
       "      <td>0</td>\n",
       "      <td>202007</td>\n",
       "      <td>treatment</td>\n",
       "    </tr>\n",
       "    <tr>\n",
       "      <th>77</th>\n",
       "      <td>T13</td>\n",
       "      <td>0</td>\n",
       "      <td>11</td>\n",
       "      <td>7</td>\n",
       "      <td>0</td>\n",
       "      <td>0</td>\n",
       "      <td>0</td>\n",
       "      <td>0</td>\n",
       "      <td>202007</td>\n",
       "      <td>treatment</td>\n",
       "    </tr>\n",
       "    <tr>\n",
       "      <th>78</th>\n",
       "      <td>T14</td>\n",
       "      <td>2</td>\n",
       "      <td>28</td>\n",
       "      <td>3</td>\n",
       "      <td>2</td>\n",
       "      <td>0</td>\n",
       "      <td>0</td>\n",
       "      <td>0</td>\n",
       "      <td>202007</td>\n",
       "      <td>treatment</td>\n",
       "    </tr>\n",
       "    <tr>\n",
       "      <th>79</th>\n",
       "      <td>T15</td>\n",
       "      <td>0</td>\n",
       "      <td>0</td>\n",
       "      <td>0</td>\n",
       "      <td>0</td>\n",
       "      <td>0</td>\n",
       "      <td>0</td>\n",
       "      <td>0</td>\n",
       "      <td>202007</td>\n",
       "      <td>treatment</td>\n",
       "    </tr>\n",
       "    <tr>\n",
       "      <th>80</th>\n",
       "      <td>T16</td>\n",
       "      <td>0</td>\n",
       "      <td>0</td>\n",
       "      <td>0</td>\n",
       "      <td>0</td>\n",
       "      <td>0</td>\n",
       "      <td>0</td>\n",
       "      <td>0</td>\n",
       "      <td>202007</td>\n",
       "      <td>treatment</td>\n",
       "    </tr>\n",
       "  </tbody>\n",
       "</table>\n",
       "<p>81 rows × 10 columns</p>\n",
       "</div>"
      ],
      "text/plain": [
       "   transect_ID ghost_crab_cnt sm_mole_crab_cnt md_mole_crab_cnt  \\\n",
       "0          C01              0                0                1   \n",
       "1          C02              0                0                0   \n",
       "2          C03              0                0                0   \n",
       "3          C04              0                0                1   \n",
       "4          C05              0                0                1   \n",
       "..         ...            ...              ...              ...   \n",
       "76         T12             14               19                6   \n",
       "77         T13              0               11                7   \n",
       "78         T14              2               28                3   \n",
       "79         T15              0                0                0   \n",
       "80         T16              0                0                0   \n",
       "\n",
       "   lg_mole_crab_cnt coquina_cnt worm_cnt amphipod_cnt  survey      group  \n",
       "0                 0           0        0            0  202001    control  \n",
       "1                 0           0        0            0  202001    control  \n",
       "2                 0           0        0            0  202001    control  \n",
       "3                 0           0        0            0  202001    control  \n",
       "4                 1           0        0            0  202001    control  \n",
       "..              ...         ...      ...          ...     ...        ...  \n",
       "76                0           0        0            0  202007  treatment  \n",
       "77                0           0        0            0  202007  treatment  \n",
       "78                2           0        0            0  202007  treatment  \n",
       "79                0           0        0            0  202007  treatment  \n",
       "80                0           0        0            0  202007  treatment  \n",
       "\n",
       "[81 rows x 10 columns]"
      ]
     },
     "execution_count": 97,
     "metadata": {},
     "output_type": "execute_result"
    }
   ],
   "source": [
    "# Load data from Excel spreadsheet:\n",
    "\n",
    "df = pd.DataFrame(columns=['sheet_code','transect_ID','sample_ID','ghost_crab_cnt',\n",
    "                                      'sm_mole_crab_cnt','md_mole_crab_cnt','lg_mole_crab_cnt',\n",
    "                                      'coquina_cnt','worm_cnt','amphipod_cnt'])\n",
    "try:\n",
    "    for survey, fn in zip(surveys, fns):\n",
    "        df_ = pd.read_excel(datapath+fn)\n",
    "\n",
    "        df_.replace('NR', np.nan, inplace=True)\n",
    "        df_.dropna()\n",
    "\n",
    "        df_g = df_.groupby(['transect_ID'], as_index=False).sum()\n",
    "        df_g['survey'] = survey\n",
    "        df = pd.concat([df,df_g], ignore_index=True)\n",
    "except Exception as e:\n",
    "    print('Oops', e)\n",
    "\n",
    "# drop columns that we don't need, just to tidy things up a bit...\n",
    "df.drop(['sheet_code', 'sample_ID'], axis=1, inplace=True)\n",
    "\n",
    "# create and populate new group column (field) based on transect id \n",
    "# type (e.g., control or transect):\n",
    "df.loc[df['transect_ID'].str[0] == 'C', 'group'] ='control'\n",
    "df.loc[df['transect_ID'].str[0] =='T', 'group'] = 'treatment'\n",
    "\n",
    "try:\n",
    "    df.drop(['NOTES'], axis=1, inplace=True)\n",
    "except Exception as e:\n",
    "    print('No NOTES field to drop...')\n",
    "\n",
    "df"
   ]
  },
  {
   "cell_type": "markdown",
   "metadata": {},
   "source": [
    "<h3>Plotting Section</h3>"
   ]
  },
  {
   "cell_type": "code",
   "execution_count": 98,
   "metadata": {
    "collapsed": false,
    "jupyter": {
     "outputs_hidden": false
    }
   },
   "outputs": [
    {
     "data": {
      "text/plain": [
       "<Figure size 432x288 with 0 Axes>"
      ]
     },
     "metadata": {},
     "output_type": "display_data"
    }
   ],
   "source": [
    "### some general settings, common to all plots...\n",
    "sns.set_color_codes(\"pastel\")\n",
    "sns.despine(offset=10, trim=True);"
   ]
  },
  {
   "cell_type": "markdown",
   "metadata": {},
   "source": [
    "**Ghost Crabs**"
   ]
  },
  {
   "cell_type": "code",
   "execution_count": 99,
   "metadata": {
    "collapsed": false,
    "jupyter": {
     "outputs_hidden": false
    },
    "scrolled": true
   },
   "outputs": [
    {
     "data": {
      "image/png": "[encoded data removed]",
      "text/plain": [
       "<Figure size 1080x360 with 1 Axes>"
      ]
     },
     "metadata": {},
     "output_type": "display_data"
    }
   ],
   "source": [
    "sns.set(style=\"ticks\")\n",
    "sns.set_context('talk')\n",
    "g = sns.catplot(x=\"survey\", y=\"ghost_crab_cnt\", hue=\"group\", data=df,\n",
    "                    height=5, aspect=3, estimator=np.sum, ci='sd', kind=\"bar\", \n",
    "                   hue_order=['control','treatment'], legend=False, palette=\"PRGn\")\n",
    "# ci=95,\n",
    "###\"PRGn\"\n",
    "sns.despine(offset=10, trim=True) \n",
    "plt.xticks(fontsize=16)\n",
    "plt.yticks(fontsize=16)\n",
    "g.set_axis_labels(\"\", \"Ghost Crab Counts\")\n",
    "\n",
    "# to place the field counts for coquina clams recorded during each of the 12 sampling events\n",
    "#PlotCountsAboveBars()\n",
    "plt.savefig(plotpath+'Ghost_Crab_counts.jpg', dpi=300);"
   ]
  },
  {
   "cell_type": "markdown",
   "metadata": {},
   "source": [
    "**Small Mole Crabs**"
   ]
  },
  {
   "cell_type": "code",
   "execution_count": 75,
   "metadata": {
    "collapsed": false,
    "jupyter": {
     "outputs_hidden": false
    }
   },
   "outputs": [
    {
     "data": {
      "image/png": "[encoded data removed]",
      "text/plain": [
       "<Figure size 1080x360 with 1 Axes>"
      ]
     },
     "metadata": {},
     "output_type": "display_data"
    }
   ],
   "source": [
    "sns.set(style=\"ticks\")\n",
    "sns.set_context('talk')\n",
    "\n",
    "g = sns.catplot(x=\"survey\", y=\"sm_mole_crab_cnt\", hue=\"group\", data=df,\n",
    "                    height=5, aspect=3, estimator=np.sum, kind=\"bar\", \n",
    "                   hue_order=['control','treatment'], ci='sd', legend=False, palette=\"PRGn\")\n",
    "sns.despine(offset=10, trim=True) \n",
    "\n",
    "plt.xticks(fontsize=16)\n",
    "plt.yticks(fontsize=16)\n",
    "g.set_axis_labels(\"\", \"Small Mole Crab Counts\")\n",
    "\n",
    "# to place the field counts for coquina clams recorded during each of the 12 sampling events\n",
    "#PlotCountsAboveBars()\n",
    "plt.savefig(plotpath+'Sm_Mole_Crab_counts.jpg', dpi=300)"
   ]
  },
  {
   "cell_type": "markdown",
   "metadata": {},
   "source": [
    "**Medium Mole Crabs**"
   ]
  },
  {
   "cell_type": "code",
   "execution_count": 76,
   "metadata": {
    "collapsed": false,
    "jupyter": {
     "outputs_hidden": false
    }
   },
   "outputs": [
    {
     "data": {
      "image/png": "[encoded data removed]",
      "text/plain": [
       "<Figure size 1080x360 with 1 Axes>"
      ]
     },
     "metadata": {},
     "output_type": "display_data"
    }
   ],
   "source": [
    "sns.set(style=\"ticks\")\n",
    "sns.set_context('talk')\n",
    "g = sns.catplot(x=\"survey\", y=\"md_mole_crab_cnt\", hue=\"group\", data=df,\n",
    "                    height=5, aspect=3, estimator=np.sum, kind=\"bar\", \n",
    "                   hue_order=['control','treatment'], ci='sd', legend=False, palette=\"PRGn\")\n",
    "sns.despine(offset=10, trim=True) \n",
    "\n",
    "plt.xticks(fontsize=16)\n",
    "plt.yticks(fontsize=16)\n",
    "g.set_axis_labels(\"\", \"Medium Mole Crab Counts\")\n",
    "\n",
    "# to place the field counts for coquina clams recorded during each of the 12 sampling events\n",
    "#PlotCountsAboveBars()\n",
    "\n",
    "plt.savefig(plotpath+'Med_Mole_Crab_counts.jpg', dpi=300)"
   ]
  },
  {
   "cell_type": "markdown",
   "metadata": {},
   "source": [
    "**Large Mole Crabs**"
   ]
  },
  {
   "cell_type": "code",
   "execution_count": 77,
   "metadata": {
    "collapsed": false,
    "jupyter": {
     "outputs_hidden": false
    }
   },
   "outputs": [
    {
     "data": {
      "image/png": "[encoded data removed]",
      "text/plain": [
       "<Figure size 1080x360 with 1 Axes>"
      ]
     },
     "metadata": {},
     "output_type": "display_data"
    }
   ],
   "source": [
    "sns.set(style=\"ticks\")\n",
    "sns.set_context('talk')\n",
    "g = sns.catplot(x=\"survey\", y=\"lg_mole_crab_cnt\", hue=\"group\", data=df,\n",
    "                    height=5, aspect=3, estimator=np.sum, kind=\"bar\", \n",
    "                   hue_order=['control','treatment'], ci='sd', legend=False, palette=\"PRGn\")\n",
    "sns.despine(offset=10, trim=True) \n",
    "\n",
    "plt.xticks(fontsize=16)\n",
    "plt.yticks(fontsize=16)\n",
    "g.set_axis_labels(\"\", \"Large Mole Counts\")\n",
    "\n",
    "# to place the field counts for coquina clams recorded during each of the 12 sampling events\n",
    "#PlotCountsAboveBars()\n",
    "plt.savefig(plotpath+'Lg_Mole_Crab_counts.jpg', dpi=300)"
   ]
  },
  {
   "cell_type": "markdown",
   "metadata": {},
   "source": [
    "**Coquina Clams**"
   ]
  },
  {
   "cell_type": "code",
   "execution_count": 78,
   "metadata": {
    "collapsed": false,
    "jupyter": {
     "outputs_hidden": false
    }
   },
   "outputs": [
    {
     "data": {
      "image/png": "[encoded data removed]",
      "text/plain": [
       "<Figure size 1080x360 with 1 Axes>"
      ]
     },
     "metadata": {},
     "output_type": "display_data"
    }
   ],
   "source": [
    "sns.set(style=\"ticks\")\n",
    "sns.set_context('talk')\n",
    "g = sns.catplot(x=\"survey\", y=\"coquina_cnt\", hue=\"group\", data=df,\n",
    "                    height=5, aspect=3, estimator=np.sum, kind=\"bar\", \n",
    "                   hue_order=['control','treatment'], ci='sd', legend=False, palette=\"PRGn\")\n",
    "sns.despine(offset=10, trim=True) \n",
    "\n",
    "plt.xticks(fontsize=16)\n",
    "plt.yticks(fontsize=16)\n",
    "g.set_axis_labels(\"\", \"Coquina Counts\")\n",
    "\n",
    "# to place the field counts for coquina clams recorded during each of the 12 sampling events\n",
    "#PlotCountsAboveBars()\n",
    "\n",
    "plt.savefig(plotpath+'Coquina_counts.jpg', dpi=300)"
   ]
  },
  {
   "cell_type": "markdown",
   "metadata": {},
   "source": [
    "**Amphipods**"
   ]
  },
  {
   "cell_type": "code",
   "execution_count": 79,
   "metadata": {
    "collapsed": false,
    "jupyter": {
     "outputs_hidden": false
    }
   },
   "outputs": [
    {
     "data": {
      "image/png": "[encoded data removed]",
      "text/plain": [
       "<Figure size 1080x360 with 1 Axes>"
      ]
     },
     "metadata": {},
     "output_type": "display_data"
    }
   ],
   "source": [
    "sns.set(style=\"ticks\")\n",
    "sns.set_context('talk')\n",
    "g = sns.catplot(x=\"survey\", y=\"amphipod_cnt\", hue=\"group\", data=df,\n",
    "                    height=5, aspect=3, estimator=np.sum, kind=\"bar\", \n",
    "                   hue_order=['control','treatment'], ci='sd', legend=False, palette=\"PRGn\")\n",
    "sns.despine(offset=10, trim=True) \n",
    "\n",
    "plt.xticks(fontsize=16)\n",
    "plt.yticks(fontsize=16)\n",
    "g.set_axis_labels(\"\", \"Amphipod Counts\")\n",
    "\n",
    "# to place the field counts for amphipods recorded during each of the 12 sampling events\n",
    "#PlotCountsAboveBars()\n",
    "\n",
    "plt.savefig(plotpath+'amphipod_counts.jpg', dpi=300)"
   ]
  },
  {
   "cell_type": "markdown",
   "metadata": {},
   "source": [
    "**Polychaete Worms**"
   ]
  },
  {
   "cell_type": "code",
   "execution_count": 80,
   "metadata": {
    "collapsed": false,
    "jupyter": {
     "outputs_hidden": false
    }
   },
   "outputs": [
    {
     "data": {
      "image/png": "[encoded data removed]",
      "text/plain": [
       "<Figure size 1080x360 with 1 Axes>"
      ]
     },
     "metadata": {},
     "output_type": "display_data"
    }
   ],
   "source": [
    "#figpg = plt.figure(figsize=(15,5))\n",
    "#axspg = figpg.add_subplot(1,1,1)\n",
    "#figpg.tight_layout(pad=5.1, w_pad=0.5, h_pad=2.0)\n",
    "\n",
    "sns.set(style=\"ticks\")\n",
    "sns.set_context('talk')\n",
    "#sns.set_color_codes(\"pastel\")\n",
    "g = sns.catplot(x=\"survey\", y=\"worm_cnt\", hue=\"group\", data=df, height=5, aspect=3, \n",
    "                    kind=\"bar\", hue_order=['control','treatment'], \n",
    "                   estimator=np.sum, ci='sd', legend=False, palette=\"PRGn\")  \n",
    "#axb = sns.barplot(x=\"survey\", y=\"worms\", hue=\"group\", data=df, palette=\"PRGn\")  \n",
    "sns.despine(offset=10, trim=True) \n",
    "\n",
    "plt.xticks(fontsize=16)\n",
    "plt.yticks(fontsize=16)\n",
    "g.set_axis_labels('',\"Polychaete Worm Counts\")\n",
    "#g.set_ylabel(\"Polychaete Mean Counts\", fontsize=16)     \n",
    "#g.legend_.remove()\n",
    "\n",
    "# to place the field counts for polychaete worms recorded during each of the 12 sampling events\n",
    "#PlotCountsAboveBars()\n",
    "\n",
    "plt.savefig(plotpath+'polychaete_counts.jpg', dpi=300)     "
   ]
  },
  {
   "cell_type": "code",
   "execution_count": 81,
   "metadata": {
    "collapsed": false,
    "jupyter": {
     "outputs_hidden": false
    }
   },
   "outputs": [
    {
     "data": {
      "image/png": "[encoded data removed]",
      "text/plain": [
       "<Figure size 1080x360 with 1 Axes>"
      ]
     },
     "metadata": {},
     "output_type": "display_data"
    }
   ],
   "source": [
    "### Bar plot means with 95% CI  Draws mean value bars. This has been, for now anyway, \n",
    "### superceded by the counts plot code in the cell above...\n",
    "\n",
    "figpg = plt.figure(figsize=(15,5))\n",
    "axspg = figpg.add_subplot(1,1,1)\n",
    "figpg.tight_layout(pad=5.1, w_pad=0.5, h_pad=2.0)\n",
    "\n",
    "sns.set_color_codes(\"pastel\")\n",
    "axb = sns.barplot(x=\"survey\", y=\"worm_cnt\", hue=\"group\", data=df, palette=\"PRGn\")     \n",
    "sns.despine(offset=10, trim=True)\n",
    "\n",
    "plt.xticks(fontsize=16)\n",
    "plt.yticks(fontsize=16)\n",
    "axb.set_xlabel('')\n",
    "axb.set_ylabel(\"Polychaete Mean Counts\", fontsize=16)     \n",
    "axb.legend_.remove()\n",
    "\n",
    "plt.savefig(plotpath+'Sample_Polychaete_means.jpg', dpi=300)"
   ]
  },
  {
   "cell_type": "markdown",
   "metadata": {},
   "source": [
    "**The End**"
   ]
  },
  {
   "cell_type": "code",
   "execution_count": null,
   "metadata": {},
   "outputs": [],
   "source": []
  }
 ],
 "metadata": {
  "kernelspec": {
   "display_name": "Python 3",
   "language": "python",
   "name": "python3"
  },
  "language_info": {
   "codemirror_mode": {
    "name": "ipython",
    "version": 3
   },
   "file_extension": ".py",
   "mimetype": "text/x-python",
   "name": "python",
   "nbconvert_exporter": "python",
   "pygments_lexer": "ipython3",
   "version": "3.8.3"
  }
 },
 "nbformat": 4,
 "nbformat_minor": 4
}
